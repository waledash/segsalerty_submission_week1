{
 "cells": [
  {
   "cell_type": "markdown",
   "id": "d3051560",
   "metadata": {},
   "source": [
    "# Submission"
   ]
  },
  {
   "cell_type": "code",
   "execution_count": 6,
   "id": "867e13ed",
   "metadata": {},
   "outputs": [],
   "source": [
    "import math\n",
    "import numpy as np"
   ]
  },
  {
   "cell_type": "code",
   "execution_count": null,
   "id": "6cc5b500",
   "metadata": {},
   "outputs": [],
   "source": [
    "def mult_table(N): \n",
    "    \"\"\" function creates the multiplication table of inputed number \"\"\"\n",
    "    \n",
    "    for i in range (12):\n",
    "        print (N, \"x\", i+1, \"=\", N*(i+1))\n",
    "        \n",
    "N = int(input(\"What number do you want to get it's multiplication table? \\n\"))\n",
    "print (\"The multiplication table for {} is\". format(N))\n",
    "\n",
    "mult_table(N)"
   ]
  },
  {
   "cell_type": "code",
   "execution_count": null,
   "id": "1bcd9137",
   "metadata": {},
   "outputs": [],
   "source": [
    "def isPrime(n):\n",
    "    \"\"\" function checks if number is a prime number \"\"\"\n",
    "    \n",
    "    for i in range (2, n):\n",
    "        if n % i == 0:\n",
    "            return False\n",
    "    return True\n",
    "\n",
    "def listTwinPrime(N):\n",
    "    \"\"\" function to twin prime numbers   \"\"\"\n",
    "\n",
    "    for a in range (2, N):\n",
    "        b = a + 2\n",
    "        if isPrime(a) and isPrime(b):\n",
    "            print (\"{} and {}\" .format(a, b))\n",
    "            \n",
    "print (\"List of Twin Primes:\")\n",
    "            \n",
    "listTwinPrime (1000)"
   ]
  },
  {
   "cell_type": "code",
   "execution_count": null,
   "id": "00cff5c1",
   "metadata": {},
   "outputs": [],
   "source": [
    "prime_list = []\n",
    "\n",
    "def primeFactors(x):\n",
    "    \"\"\" function lists the prime factors of a given number \"\"\"\n",
    "\n",
    "    while x % 2 == 0:\n",
    "        prime_list.append(2)\n",
    "        x = x/2\n",
    "\n",
    "    for i in range(3, int(math.sqrt(x))+1, 2):\n",
    "        while x % i == 0:\n",
    "            prime_list.append(i)\n",
    "            x = x/i\n",
    "\n",
    "    if x > 2:\n",
    "        x = int(x)\n",
    "        prime_list.append(x)\n",
    "    return prime_list\n",
    "\n",
    "primeFactors(56)"
   ]
  },
  {
   "cell_type": "code",
   "execution_count": null,
   "id": "0cdee3d7",
   "metadata": {},
   "outputs": [],
   "source": [
    "full_list = [3, 5, 88, 23, 9, 123, 60, 11, 92, 16, 44, 65, 111, 92, 81, 14, 45, 33, 4, 52, 66, 76, 123, 243, 442]\n",
    "\n",
    "def check_odd(num):\n",
    "    if num % 2 != 0:\n",
    "        return True\n",
    "    return False\n",
    "\n",
    "odd_num_check = filter(check_odd, full_list)\n",
    "odd_num_list = list(odd_num_check)\n",
    "\n",
    "print (odd_num_list)\n"
   ]
  },
  {
   "cell_type": "code",
   "execution_count": 3,
   "id": "400646ed",
   "metadata": {},
   "outputs": [
    {
     "name": "stdout",
     "output_type": "stream",
     "text": [
      "Enter any number : 54\n",
      "The product of the digits of 54 is: 20\n"
     ]
    }
   ],
   "source": [
    "def prodDigits(x):\n",
    "    \"\"\" function returns the product of digits of given number \"\"\"\n",
    "    n = x\n",
    "    prod = 1\n",
    "    while n > 0:\n",
    "        digit = n % 10\n",
    "        prod *= digit\n",
    "        n //= 10\n",
    "    return prod\n",
    "\n",
    "x = int(input(\"Enter any number : \"))\n",
    "y = prodDigits (x)\n",
    "print(\"The product of the digits of {} is: {}\".format(x, y))"
   ]
  },
  {
   "cell_type": "code",
   "execution_count": 7,
   "id": "34683682",
   "metadata": {
    "scrolled": true
   },
   "outputs": [
    {
     "name": "stdout",
     "output_type": "stream",
     "text": [
      "Original List: [12.23, 13.32, 100, 36.32]\n",
      "One-dimensional NumPy array:  [ 12.23  13.32 100.    36.32]\n"
     ]
    }
   ],
   "source": [
    "list = [12.23, 13.32, 100, 36.32]\n",
    "\n",
    "print(\"Original List:\",list)\n",
    "a = np.array(list)\n",
    "print(\"One-dimensional NumPy array: \",a)\n"
   ]
  },
  {
   "cell_type": "code",
   "execution_count": 8,
   "id": "f156c9dc",
   "metadata": {},
   "outputs": [
    {
     "name": "stdout",
     "output_type": "stream",
     "text": [
      "[[ 2  3  4]\n",
      " [ 5  6  7]\n",
      " [ 8  9 10]]\n"
     ]
    }
   ],
   "source": [
    "x =  np.arange(2, 11).reshape(3,3)\n",
    "print(x)"
   ]
  },
  {
   "cell_type": "code",
   "execution_count": 10,
   "id": "e93b4d56",
   "metadata": {},
   "outputs": [
    {
     "name": "stdout",
     "output_type": "stream",
     "text": [
      "[0. 0. 0. 0. 0. 0. 0. 0. 0. 0.]\n",
      "[ 0.  0.  0.  0.  0.  0. 11.  0.  0.  0.]\n"
     ]
    }
   ],
   "source": [
    "x = np.zeros(10)\n",
    "print(x)\n",
    "\n",
    "x[6] = 11 #update the sixth value to 11\n",
    "print(x)"
   ]
  },
  {
   "cell_type": "code",
   "execution_count": null,
   "id": "e96d24cb",
   "metadata": {},
   "outputs": [],
   "source": []
  }
 ],
 "metadata": {
  "kernelspec": {
   "display_name": "Python 3",
   "language": "python",
   "name": "python3"
  },
  "language_info": {
   "codemirror_mode": {
    "name": "ipython",
    "version": 3
   },
   "file_extension": ".py",
   "mimetype": "text/x-python",
   "name": "python",
   "nbconvert_exporter": "python",
   "pygments_lexer": "ipython3",
   "version": "3.8.8"
  }
 },
 "nbformat": 4,
 "nbformat_minor": 5
}
